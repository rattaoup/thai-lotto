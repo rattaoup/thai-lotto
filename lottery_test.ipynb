{
 "cells": [
  {
   "cell_type": "code",
   "execution_count": 35,
   "metadata": {},
   "outputs": [],
   "source": [
    "import pandas as pd\n",
    "import numpy as np"
   ]
  },
  {
   "cell_type": "code",
   "execution_count": 110,
   "metadata": {},
   "outputs": [
    {
     "data": {
      "text/html": [
       "<div>\n",
       "<style scoped>\n",
       "    .dataframe tbody tr th:only-of-type {\n",
       "        vertical-align: middle;\n",
       "    }\n",
       "\n",
       "    .dataframe tbody tr th {\n",
       "        vertical-align: top;\n",
       "    }\n",
       "\n",
       "    .dataframe thead th {\n",
       "        text-align: right;\n",
       "    }\n",
       "</style>\n",
       "<table border=\"1\" class=\"dataframe\">\n",
       "  <thead>\n",
       "    <tr style=\"text-align: right;\">\n",
       "      <th></th>\n",
       "      <th>0</th>\n",
       "    </tr>\n",
       "  </thead>\n",
       "  <tbody>\n",
       "    <tr>\n",
       "      <th>4792</th>\n",
       "      <td>16</td>\n",
       "    </tr>\n",
       "    <tr>\n",
       "      <th>4793</th>\n",
       "      <td>มกราคม</td>\n",
       "    </tr>\n",
       "    <tr>\n",
       "      <th>4794</th>\n",
       "      <td>2540</td>\n",
       "    </tr>\n",
       "    <tr>\n",
       "      <th>4795</th>\n",
       "      <td>151995</td>\n",
       "    </tr>\n",
       "    <tr>\n",
       "      <th>4796</th>\n",
       "      <td>95</td>\n",
       "    </tr>\n",
       "    <tr>\n",
       "      <th>4797</th>\n",
       "      <td>995</td>\n",
       "    </tr>\n",
       "    <tr>\n",
       "      <th>4798</th>\n",
       "      <td>47</td>\n",
       "    </tr>\n",
       "    <tr>\n",
       "      <th>4799</th>\n",
       "      <td>612 257 020 381</td>\n",
       "    </tr>\n",
       "  </tbody>\n",
       "</table>\n",
       "</div>"
      ],
      "text/plain": [
       "                    0\n",
       "4792               16\n",
       "4793           มกราคม\n",
       "4794             2540\n",
       "4795           151995\n",
       "4796               95\n",
       "4797              995\n",
       "4798               47\n",
       "4799  612 257 020 381"
      ]
     },
     "execution_count": 110,
     "metadata": {},
     "output_type": "execute_result"
    }
   ],
   "source": [
    "df = pd.read_csv('lottery data - Sheet1.csv', header = None)[:4800]\n",
    "df.tail(8)\n"
   ]
  },
  {
   "cell_type": "code",
   "execution_count": 62,
   "metadata": {},
   "outputs": [],
   "source": [
    "first_prize = []\n",
    "top2 = []\n",
    "top3 = []\n",
    "bottom2 =  []\n",
    "for i in range(int(df.shape[0]/8)):\n",
    "    first_prize.append((df.iloc[8*i +3,0]))\n",
    "    top2.append(int(df.iloc[8*i+4,0]))\n",
    "    top3.append(int(df.iloc[8*i+5,0]))\n",
    "    bottom2.append(int(df.iloc[8*i+6,0]))\n",
    "\n",
    "df = pd.DataFrame({'first_prize': first_prize, 'top2':top2,'top3':top3,'bottom2':bottom2})"
   ]
  },
  {
   "cell_type": "code",
   "execution_count": 108,
   "metadata": {},
   "outputs": [],
   "source": [
    "formula_1 = []\n",
    "formula_2 = []\n",
    "for i in range(df.shape[0]):\n",
    "    top_list = np.array(list(df['first_prize'][i])).astype(int)\n",
    "    bot_list = np.array(list(str(df['bottom2'][i]))).astype(int)\n",
    "\n",
    "    if len(top_list) < 6:\n",
    "        top_list = np.concatenate((np.array([0]* (6 - len(top_list))), top_list))\n",
    "    if len(bot_list) < 2:\n",
    "        bot_list = np.concatenate((np.array([0]*(2 - len(bot_list))), bot_list))\n",
    "\n",
    "    # formula 1\n",
    "    first_dg = str((top_list[0] + top_list[1] + 2*top_list[2] + bot_list[0] + 2) % 10)\n",
    "    tenth_dg = str((top_list[3] + bot_list[0] + bot_list[1]*4 + 4) % 10)\n",
    "    final = int(tenth_dg + first_dg)\n",
    "    formula_1.append(final)\n",
    "\n",
    "    # formula 2\n",
    "    first_dg2 = str(((top_list[0] + top_list[4] + top_list[5] + 3*bot_list[1] + 1))%10)\n",
    "    tenth_dg2 = str(((top_list[0] + top_list[4] + bot_list[0] + 7))%10)\n",
    "    final2 = int(first_dg2 + tenth_dg2)\n",
    "    formula_2.append(final2)\n",
    "\n",
    "df['formula1'] = formula_1\n",
    "df['formula2'] = formula_2\n",
    "df['formula4'] = (df['top2'] + df['bottom2'])%100\n"
   ]
  },
  {
   "cell_type": "code",
   "execution_count": 109,
   "metadata": {},
   "outputs": [
    {
     "name": "stdout",
     "output_type": "stream",
     "text": [
      "Accuracy 2.84 %\n",
      "Accuracy 1.17 %\n",
      "Accuracy 0.33 %\n"
     ]
    }
   ],
   "source": [
    "def evaluate_performance(y, y_pred):\n",
    "    print('Accuracy {:.2f} %'.format((np.array(y[:-1]) == np.array(y_pred[1:])).mean()*100))\n",
    "\n",
    "\n",
    "evaluate_performance(df['top2'], df['formula1'])\n",
    "evaluate_performance(df['top2'], df['formula2'])\n",
    "evaluate_performance(df['top2'], df['formula4'])\n"
   ]
  },
  {
   "cell_type": "code",
   "execution_count": null,
   "metadata": {},
   "outputs": [],
   "source": []
  }
 ],
 "metadata": {
  "interpreter": {
   "hash": "31f2aee4e71d21fbe5cf8b01ff0e069b9275f58929596ceb00d14d90e3e16cd6"
  },
  "kernelspec": {
   "display_name": "Python 3.8.9 64-bit",
   "language": "python",
   "name": "python3"
  },
  "language_info": {
   "codemirror_mode": {
    "name": "ipython",
    "version": 3
   },
   "file_extension": ".py",
   "mimetype": "text/x-python",
   "name": "python",
   "nbconvert_exporter": "python",
   "pygments_lexer": "ipython3",
   "version": "3.9.7"
  },
  "orig_nbformat": 4
 },
 "nbformat": 4,
 "nbformat_minor": 2
}
